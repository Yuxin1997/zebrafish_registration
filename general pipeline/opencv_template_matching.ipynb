{
 "cells": [
  {
   "cell_type": "code",
   "execution_count": 53,
   "metadata": {},
   "outputs": [],
   "source": [
    "import cv2 as cv\n",
    "import numpy as np\n",
    "import tifffile"
   ]
  },
  {
   "cell_type": "code",
   "execution_count": 66,
   "metadata": {},
   "outputs": [],
   "source": [
    "img = tifffile.imread('zstack.tiff')\n",
    "img2 = img.copy()\n",
    "template = cv.imread('averaged_video.tif',0)\n",
    "w, h = template.shape[::-1]\n",
    "method = cv.TM_CCOEFF_NORMED\n",
    "# top_left = np.array(shape=(img2.shape[0],2))\n",
    "corr_score= []\n",
    "\n",
    "for i in range(0,img2.shape[0]):\n",
    "    img = img2[i].copy()\n",
    "    res = cv.matchTemplate(img,template,method)\n",
    "    min_val, max_val, min_loc, max_loc = cv.minMaxLoc(res)\n",
    "    # top_left = max_loc\n",
    "    corr_score.append(max_val)\n",
    "    \n",
    "print(np.argmax(corr_score)+1)\n"
   ]
  }
 ],
 "metadata": {
  "kernelspec": {
   "display_name": "Python 3",
   "language": "python",
   "name": "python3"
  },
  "language_info": {
   "codemirror_mode": {
    "name": "ipython",
    "version": 3
   },
   "file_extension": ".py",
   "mimetype": "text/x-python",
   "name": "python",
   "nbconvert_exporter": "python",
   "pygments_lexer": "ipython3",
   "version": "3.8.3"
  }
 },
 "nbformat": 4,
 "nbformat_minor": 4
}
